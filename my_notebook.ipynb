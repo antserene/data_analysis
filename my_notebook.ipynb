{
 "cells": [
  {
   "cell_type": "markdown",
   "metadata": {},
   "source": [
    "# Introduction"
   ]
  },
  {
   "cell_type": "markdown",
   "metadata": {},
   "source": [
    "This is a notebook"
   ]
  },
  {
   "cell_type": "markdown",
   "metadata": {},
   "source": [
    "# Section"
   ]
  },
  {
   "cell_type": "code",
   "execution_count": 1,
   "metadata": {},
   "outputs": [
    {
     "name": "stdout",
     "output_type": "stream",
     "text": [
      "hello world\n"
     ]
    }
   ],
   "source": [
    "print('hello world')"
   ]
  },
  {
   "cell_type": "code",
   "execution_count": 8,
   "metadata": {},
   "outputs": [],
   "source": [
    "import pandas as pd\n",
    "import warnings\n",
    "warnings.filterwarnings('ignore')"
   ]
  },
  {
   "cell_type": "code",
   "execution_count": 9,
   "metadata": {},
   "outputs": [
    {
     "name": "stderr",
     "output_type": "stream",
     "text": [
      "b'Skipping line 15: expected 4 fields, saw 5\\nSkipping line 25: expected 4 fields, saw 5\\nSkipping line 26: expected 4 fields, saw 5\\nSkipping line 27: expected 4 fields, saw 5\\nSkipping line 28: expected 4 fields, saw 5\\nSkipping line 302: expected 4 fields, saw 5\\nSkipping line 303: expected 4 fields, saw 5\\nSkipping line 304: expected 4 fields, saw 5\\nSkipping line 305: expected 4 fields, saw 5\\nSkipping line 306: expected 4 fields, saw 5\\nSkipping line 307: expected 4 fields, saw 5\\nSkipping line 308: expected 4 fields, saw 5\\nSkipping line 309: expected 4 fields, saw 5\\nSkipping line 310: expected 4 fields, saw 5\\nSkipping line 311: expected 4 fields, saw 5\\nSkipping line 446: expected 4 fields, saw 5\\nSkipping line 470: expected 4 fields, saw 5\\nSkipping line 509: expected 4 fields, saw 5\\nSkipping line 548: expected 4 fields, saw 5\\nSkipping line 549: expected 4 fields, saw 6\\nSkipping line 550: expected 4 fields, saw 6\\nSkipping line 551: expected 4 fields, saw 5\\nSkipping line 555: expected 4 fields, saw 5\\n'\n"
     ]
    }
   ],
   "source": [
    "df = pd.read_csv('/Users/antserene/SuperBowl/superbowlAds.csv', error_bad_lines=False)"
   ]
  },
  {
   "cell_type": "code",
   "execution_count": 10,
   "metadata": {},
   "outputs": [
    {
     "data": {
      "text/html": [
       "<div>\n",
       "<style scoped>\n",
       "    .dataframe tbody tr th:only-of-type {\n",
       "        vertical-align: middle;\n",
       "    }\n",
       "\n",
       "    .dataframe tbody tr th {\n",
       "        vertical-align: top;\n",
       "    }\n",
       "\n",
       "    .dataframe thead th {\n",
       "        text-align: right;\n",
       "    }\n",
       "</style>\n",
       "<table border=\"1\" class=\"dataframe\">\n",
       "  <thead>\n",
       "    <tr style=\"text-align: right;\">\n",
       "      <th></th>\n",
       "      <th>Year</th>\n",
       "      <th>Product Type</th>\n",
       "      <th>Product/Title</th>\n",
       "      <th>Plot/Notes</th>\n",
       "    </tr>\n",
       "  </thead>\n",
       "  <tbody>\n",
       "    <tr>\n",
       "      <th>0</th>\n",
       "      <td>1969</td>\n",
       "      <td>Car</td>\n",
       "      <td>Chrysler \"Scuba Diver\"[4]</td>\n",
       "      <td>A scuba diver in a dreamy sequence with groovy...</td>\n",
       "    </tr>\n",
       "    <tr>\n",
       "      <th>1</th>\n",
       "      <td>1970</td>\n",
       "      <td>Car</td>\n",
       "      <td>Pontiac\"Humbler\"</td>\n",
       "      <td>A young man pulled up in his GTO to a drive-in...</td>\n",
       "    </tr>\n",
       "    <tr>\n",
       "      <th>2</th>\n",
       "      <td>1975</td>\n",
       "      <td>Security</td>\n",
       "      <td>Master Lock\"Rifle\"</td>\n",
       "      <td>A man attempts to break a Master Lock with a r...</td>\n",
       "    </tr>\n",
       "    <tr>\n",
       "      <th>3</th>\n",
       "      <td>1976</td>\n",
       "      <td>Copy</td>\n",
       "      <td>Xerox\"Monks\"</td>\n",
       "      <td>A monk must make 500 handwritten scriptures fo...</td>\n",
       "    </tr>\n",
       "    <tr>\n",
       "      <th>4</th>\n",
       "      <td>1979</td>\n",
       "      <td>Soft drink</td>\n",
       "      <td>Coca-Cola\"Hey Kid, Catch!\"</td>\n",
       "      <td>A young kid tries to talk to \"Mean\" Joe Greene...</td>\n",
       "    </tr>\n",
       "  </tbody>\n",
       "</table>\n",
       "</div>"
      ],
      "text/plain": [
       "   Year Product Type               Product/Title  \\\n",
       "0  1969          Car   Chrysler \"Scuba Diver\"[4]   \n",
       "1  1970          Car            Pontiac\"Humbler\"   \n",
       "2  1975     Security          Master Lock\"Rifle\"   \n",
       "3  1976         Copy                Xerox\"Monks\"   \n",
       "4  1979   Soft drink  Coca-Cola\"Hey Kid, Catch!\"   \n",
       "\n",
       "                                          Plot/Notes  \n",
       "0  A scuba diver in a dreamy sequence with groovy...  \n",
       "1  A young man pulled up in his GTO to a drive-in...  \n",
       "2  A man attempts to break a Master Lock with a r...  \n",
       "3  A monk must make 500 handwritten scriptures fo...  \n",
       "4  A young kid tries to talk to \"Mean\" Joe Greene...  "
      ]
     },
     "execution_count": 10,
     "metadata": {},
     "output_type": "execute_result"
    }
   ],
   "source": [
    "df.head()"
   ]
  },
  {
   "cell_type": "code",
   "execution_count": 11,
   "metadata": {},
   "outputs": [
    {
     "data": {
      "text/html": [
       "<div>\n",
       "<style scoped>\n",
       "    .dataframe tbody tr th:only-of-type {\n",
       "        vertical-align: middle;\n",
       "    }\n",
       "\n",
       "    .dataframe tbody tr th {\n",
       "        vertical-align: top;\n",
       "    }\n",
       "\n",
       "    .dataframe thead th {\n",
       "        text-align: right;\n",
       "    }\n",
       "</style>\n",
       "<table border=\"1\" class=\"dataframe\">\n",
       "  <thead>\n",
       "    <tr style=\"text-align: right;\">\n",
       "      <th></th>\n",
       "      <th>Year</th>\n",
       "      <th>Product Type</th>\n",
       "      <th>Product/Title</th>\n",
       "      <th>Plot/Notes</th>\n",
       "    </tr>\n",
       "  </thead>\n",
       "  <tbody>\n",
       "    <tr>\n",
       "      <th>count</th>\n",
       "      <td>540</td>\n",
       "      <td>540</td>\n",
       "      <td>539</td>\n",
       "      <td>525</td>\n",
       "    </tr>\n",
       "    <tr>\n",
       "      <th>unique</th>\n",
       "      <td>36</td>\n",
       "      <td>68</td>\n",
       "      <td>537</td>\n",
       "      <td>406</td>\n",
       "    </tr>\n",
       "    <tr>\n",
       "      <th>top</th>\n",
       "      <td>2018</td>\n",
       "      <td>Film</td>\n",
       "      <td>Advertiser/Product Title</td>\n",
       "      <td>TV promo.</td>\n",
       "    </tr>\n",
       "    <tr>\n",
       "      <th>freq</th>\n",
       "      <td>74</td>\n",
       "      <td>140</td>\n",
       "      <td>3</td>\n",
       "      <td>94</td>\n",
       "    </tr>\n",
       "  </tbody>\n",
       "</table>\n",
       "</div>"
      ],
      "text/plain": [
       "        Year Product Type             Product/Title Plot/Notes\n",
       "count    540          540                       539        525\n",
       "unique    36           68                       537        406\n",
       "top     2018         Film  Advertiser/Product Title  TV promo.\n",
       "freq      74          140                         3         94"
      ]
     },
     "execution_count": 11,
     "metadata": {},
     "output_type": "execute_result"
    }
   ],
   "source": [
    "df.describe()"
   ]
  },
  {
   "cell_type": "code",
   "execution_count": null,
   "metadata": {},
   "outputs": [],
   "source": []
  }
 ],
 "metadata": {
  "kernelspec": {
   "display_name": "Python 3",
   "language": "python",
   "name": "python3"
  },
  "language_info": {
   "codemirror_mode": {
    "name": "ipython",
    "version": 3
   },
   "file_extension": ".py",
   "mimetype": "text/x-python",
   "name": "python",
   "nbconvert_exporter": "python",
   "pygments_lexer": "ipython3",
   "version": "3.8.3"
  }
 },
 "nbformat": 4,
 "nbformat_minor": 4
}
